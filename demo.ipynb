{
 "cells": [
  {
   "cell_type": "markdown",
   "metadata": {},
   "source": [
    "# PROTAC-STAN Demo\n",
    "- This is a code demo of PROTAC-STAN for PROTAC degradation prediction. It takes about 5 minutes to run the whole pipeline.\n",
    "- [![Open In Colab](https://colab.research.google.com/assets/colab-badge.svg)](https://colab.research.google.com/github/PROTACs/PROTAC-STAN/blob/main/demo.ipynb) (click Runtime → Run all (Ctrl+F9)"
   ]
  },
  {
   "cell_type": "markdown",
   "metadata": {
    "vscode": {
     "languageId": "plaintext"
    }
   },
   "source": [
    "## Setup\n",
    "In this step, we setup the notebook environment and import required modules."
   ]
  },
  {
   "cell_type": "code",
   "execution_count": 1,
   "metadata": {},
   "outputs": [
    {
     "name": "stdout",
     "output_type": "stream",
     "text": [
      "Not running on CoLab\n"
     ]
    }
   ],
   "source": [
    "if 'google.colab' in str(get_ipython()):\n",
    "    print('Running on CoLab')\n",
    "    !pip install torch_geometric==2.5.1\n",
    "    !pip install rdkit==2023.9.2\n",
    "    !git clone https://github.com/PROTACs/PROTAC-STAN\n",
    "    %cd PROTAC-STAN\n",
    "else:\n",
    "    print('Not running on CoLab')"
   ]
  },
  {
   "cell_type": "code",
   "execution_count": 2,
   "metadata": {},
   "outputs": [
    {
     "name": "stderr",
     "output_type": "stream",
     "text": [
      "/home/qhbao/miniconda3/envs/protac-stan/lib/python3.11/site-packages/pydantic/_internal/_generate_schema.py:2249: UnsupportedFieldAttributeWarning: The 'repr' attribute with value False was provided to the `Field()` function, which has no effect in the context it was used. 'repr' is field-specific metadata, and can only be attached to a model field using `Annotated` metadata or by assignment. This may have happened because an `Annotated` type alias using the `type` statement was used, or if the `Field()` function was attached to a single member of a union type.\n",
      "  warnings.warn(\n",
      "/home/qhbao/miniconda3/envs/protac-stan/lib/python3.11/site-packages/pydantic/_internal/_generate_schema.py:2249: UnsupportedFieldAttributeWarning: The 'frozen' attribute with value True was provided to the `Field()` function, which has no effect in the context it was used. 'frozen' is field-specific metadata, and can only be attached to a model field using `Annotated` metadata or by assignment. This may have happened because an `Annotated` type alias using the `type` statement was used, or if the `Field()` function was attached to a single member of a union type.\n",
      "  warnings.warn(\n",
      "/home/qhbao/miniconda3/envs/protac-stan/lib/python3.11/site-packages/torch_geometric/typing.py:72: UserWarning: An issue occurred while importing 'torch-scatter'. Disabling its usage. Stacktrace: /home/qhbao/miniconda3/envs/protac-stan/lib/python3.11/site-packages/torch_scatter/_version_cuda.so: undefined symbol: _ZN3c1017RegisterOperatorsD1Ev\n",
      "  warnings.warn(f\"An issue occurred while importing 'torch-scatter'. \"\n",
      "/home/qhbao/miniconda3/envs/protac-stan/lib/python3.11/site-packages/torch_geometric/typing.py:110: UserWarning: An issue occurred while importing 'torch-sparse'. Disabling its usage. Stacktrace: /home/qhbao/miniconda3/envs/protac-stan/lib/python3.11/site-packages/torch_scatter/_version_cuda.so: undefined symbol: _ZN3c1017RegisterOperatorsD1Ev\n",
      "  warnings.warn(f\"An issue occurred while importing 'torch-sparse'. \"\n"
     ]
    }
   ],
   "source": [
    "import toml\n",
    "import torch\n",
    "\n",
    "import wandb\n",
    "from data_loader import PROTACLoader, collate_fn\n",
    "from model import PROTAC_STAN\n",
    "import warnings\n",
    "\n",
    "warnings.filterwarnings('ignore')"
   ]
  },
  {
   "cell_type": "markdown",
   "metadata": {},
   "source": [
    "## Configuration\n",
    "In this step, we configure the running settings and model settings.\n",
    "\n",
    "[`wandb`](https://wandb.ai/) is the AI developer platform to train and fine-tune your AI models and develop your AI applications with confidence. Here, we set `mode=\"disabled\"` for convenience."
   ]
  },
  {
   "cell_type": "code",
   "execution_count": 27,
   "metadata": {},
   "outputs": [
    {
     "data": {
      "text/html": [],
      "text/plain": [
       "<IPython.core.display.HTML object>"
      ]
     },
     "metadata": {},
     "output_type": "display_data"
    },
    {
     "data": {
      "text/html": [
       "Tracking run with wandb version 0.22.2"
      ],
      "text/plain": [
       "<IPython.core.display.HTML object>"
      ]
     },
     "metadata": {},
     "output_type": "display_data"
    },
    {
     "data": {
      "text/html": [
       "Run data is saved locally in <code>/home/qhbao/PROTAC/STAN/PROTAC-STAN/wandb/run-20251022_215106-6gc2kmad</code>"
      ],
      "text/plain": [
       "<IPython.core.display.HTML object>"
      ]
     },
     "metadata": {},
     "output_type": "display_data"
    },
    {
     "data": {
      "text/html": [
       "Syncing run <strong><a href='https://wandb.ai/bill_bao/protac-stan/runs/6gc2kmad' target=\"_blank\">helpful-waterfall-3</a></strong> to <a href='https://wandb.ai/bill_bao/protac-stan' target=\"_blank\">Weights & Biases</a> (<a href='https://wandb.me/developer-guide' target=\"_blank\">docs</a>)<br>"
      ],
      "text/plain": [
       "<IPython.core.display.HTML object>"
      ]
     },
     "metadata": {},
     "output_type": "display_data"
    },
    {
     "data": {
      "text/html": [
       " View project at <a href='https://wandb.ai/bill_bao/protac-stan' target=\"_blank\">https://wandb.ai/bill_bao/protac-stan</a>"
      ],
      "text/plain": [
       "<IPython.core.display.HTML object>"
      ]
     },
     "metadata": {},
     "output_type": "display_data"
    },
    {
     "data": {
      "text/html": [
       " View run at <a href='https://wandb.ai/bill_bao/protac-stan/runs/6gc2kmad' target=\"_blank\">https://wandb.ai/bill_bao/protac-stan/runs/6gc2kmad</a>"
      ],
      "text/plain": [
       "<IPython.core.display.HTML object>"
      ]
     },
     "metadata": {},
     "output_type": "display_data"
    },
    {
     "name": "stdout",
     "output_type": "stream",
     "text": [
      "{'model': {'clf': {'class': 2, 'embed': 192, 'hidden': 64},\n",
      "           'desc': 'model parameters',\n",
      "           'protac': {'edge_dim': 3,\n",
      "                      'embed': 64,\n",
      "                      'feature': 146,\n",
      "                      'hidden': 128},\n",
      "           'protein': {'embed': 1280, 'hidden': 128, 'out_dim': 64},\n",
      "           'seed': 21332,\n",
      "           'tan': {'heads': 2, 'in_dims': [1, 1, 1]},\n",
      "           'type': 'PROTAC-STAN-Demo'},\n",
      " 'train': {'batch_size': 4,\n",
      "           'desc': 'train parameters',\n",
      "           'learning_rate': 0.0005,\n",
      "           'num_epochs': 5,\n",
      "           'train_ratio': 0.8}}\n",
      "Running on: cuda\n"
     ]
    }
   ],
   "source": [
    "from main import setup_seed\n",
    "from pprint import pprint\n",
    "\n",
    "cfg = toml.load('config_demo.toml')\n",
    "model_cfg = cfg['model']\n",
    "train_cfg = cfg['train']\n",
    "\n",
    "setup_seed(model_cfg['seed'])\n",
    "# mode代表wandb的运行模式；如果你想要在你的账号上看到运行结果，可以将其设置为\"online\"\n",
    "wandb.init(\n",
    "    mode=\"online\",\n",
    "    project='protac-stan',\n",
    "    config=cfg,\n",
    "    group=f'run_bz{train_cfg[\"batch_size\"]}_lr{train_cfg[\"learning_rate\"]}',\n",
    ")\n",
    "\n",
    "\n",
    "pprint(cfg)\n",
    "\n",
    "device = torch.device('cuda' if torch.cuda.is_available() else 'cpu')\n",
    "print('Running on:', device)"
   ]
  },
  {
   "cell_type": "markdown",
   "metadata": {},
   "source": [
    "## DataLoader\n",
    "In this step, we specifiy train/test dataloader. The demo dataset are stored in `data/demo`."
   ]
  },
  {
   "cell_type": "code",
   "execution_count": 4,
   "metadata": {},
   "outputs": [],
   "source": [
    "# import pandas as pd\n",
    "\n",
    "# df = pd.read_csv('data/PROTAC-fine/protac-fine.csv')\n",
    "# df = df.sample(100, random_state=47) # sample 100 for demo\n",
    "# df.to_csv('data/demo/demo.csv', index=False)"
   ]
  },
  {
   "cell_type": "code",
   "execution_count": 24,
   "metadata": {},
   "outputs": [
    {
     "name": "stdout",
     "output_type": "stream",
     "text": [
      "Cleaned Dataset: \n",
      "Total size:  3200\n",
      "Train size:  2560\n",
      "Test size:  640\n",
      "Dropped overlapping:\n",
      "Train size:  2560\n",
      "Test size:  432\n"
     ]
    }
   ],
   "source": [
    "train_loader, test_loader = PROTACLoader(\n",
    "    root='data/protacdb3', \n",
    "    name='protac_fine_with_e3uniprot',\n",
    "    batch_size=train_cfg['batch_size'], \n",
    "    collate_fn=collate_fn, \n",
    "    train_ratio=train_cfg['train_ratio']\n",
    ")"
   ]
  },
  {
   "cell_type": "markdown",
   "metadata": {},
   "source": [
    "## Building Model\n",
    "In this step, we set up our model with configurations."
   ]
  },
  {
   "cell_type": "code",
   "execution_count": 25,
   "metadata": {},
   "outputs": [
    {
     "name": "stdout",
     "output_type": "stream",
     "text": [
      "PROTAC_STAN(\n",
      "  (protac_encoder): MolecularEncoder(\n",
      "    (lin): Linear(in_features=146, out_features=64, bias=True)\n",
      "    (bn): BatchNorm1d(64, eps=1e-05, momentum=0.1, affine=True, track_running_stats=True)\n",
      "    (conv1): EdgedGCNConv(\n",
      "    \t(node_lin): Linear(in_features=64, out_features=128, bias=False)\n",
      "    \t(edge_lin): Linear(in_features=3, out_features=128, bias=False)\n",
      "    )\n",
      "    (conv2): EdgedGCNConv(\n",
      "    \t(node_lin): Linear(in_features=128, out_features=64, bias=False)\n",
      "    \t(edge_lin): Linear(in_features=3, out_features=64, bias=False)\n",
      "    )\n",
      "  )\n",
      "  (e3_ligase_encoder): ProteinEncoder(\n",
      "    (adapter): Linear(in_features=1280, out_features=128, bias=True)\n",
      "    (fc): Linear(in_features=128, out_features=64, bias=True)\n",
      "  )\n",
      "  (poi_encoder): ProteinEncoder(\n",
      "    (adapter): Linear(in_features=1280, out_features=128, bias=True)\n",
      "    (fc): Linear(in_features=128, out_features=64, bias=True)\n",
      "  )\n",
      "  (tan): TAN(\n",
      "    (x_net): FCNet(\n",
      "      (fcnet): Sequential(\n",
      "        (0): Dropout(p=0.2, inplace=False)\n",
      "        (1): Linear(in_features=1, out_features=192, bias=True)\n",
      "        (2): ReLU()\n",
      "      )\n",
      "    )\n",
      "    (y_net): FCNet(\n",
      "      (fcnet): Sequential(\n",
      "        (0): Dropout(p=0.2, inplace=False)\n",
      "        (1): Linear(in_features=1, out_features=192, bias=True)\n",
      "        (2): ReLU()\n",
      "      )\n",
      "    )\n",
      "    (z_net): FCNet(\n",
      "      (fcnet): Sequential(\n",
      "        (0): Dropout(p=0.2, inplace=False)\n",
      "        (1): Linear(in_features=1, out_features=192, bias=True)\n",
      "        (2): ReLU()\n",
      "      )\n",
      "    )\n",
      "    (h_net): Linear(in_features=192, out_features=2, bias=True)\n",
      "    (bn): BatchNorm1d(192, eps=1e-05, momentum=0.1, affine=True, track_running_stats=True)\n",
      "  )\n",
      "  (mlp): Sequential(\n",
      "    (0): Linear(in_features=192, out_features=64, bias=True)\n",
      "    (1): BatchNorm1d(64, eps=1e-05, momentum=0.1, affine=True, track_running_stats=True)\n",
      "    (2): ReLU()\n",
      "    (3): Linear(in_features=64, out_features=2, bias=True)\n",
      "  )\n",
      ")\n"
     ]
    }
   ],
   "source": [
    "model = PROTAC_STAN(model_cfg)\n",
    "print(model)"
   ]
  },
  {
   "cell_type": "markdown",
   "metadata": {},
   "source": [
    "## Training and Testing"
   ]
  },
  {
   "cell_type": "code",
   "execution_count": 28,
   "metadata": {},
   "outputs": [
    {
     "name": "stdout",
     "output_type": "stream",
     "text": [
      "Epoch: 1/5, train loss: 0.536\n",
      "Best model updated with roc_auc=0.5242!\n",
      "Test Accuracy: 79.40 %\n",
      "Test Loss: 0.4604\n",
      "Test ROC AUC: 0.5242\n",
      "Test F1 Score: 0.1010\n",
      "Epoch: 2/5, train loss: 0.510\n",
      "Best model updated with roc_auc=0.5725!\n",
      "Test Accuracy: 76.39 %\n",
      "Test Loss: 0.5015\n",
      "Test ROC AUC: 0.5725\n",
      "Test F1 Score: 0.3014\n",
      "Epoch: 3/5, train loss: 0.505\n",
      "Test Accuracy: 78.70 %\n",
      "Test Loss: 0.4570\n",
      "Test ROC AUC: 0.5595\n",
      "Test F1 Score: 0.2459\n",
      "Epoch: 4/5, train loss: 0.488\n",
      "Best model updated with roc_auc=0.5768!\n",
      "Test Accuracy: 78.94 %\n",
      "Test Loss: 0.4610\n",
      "Test ROC AUC: 0.5768\n",
      "Test F1 Score: 0.2946\n",
      "Epoch: 5/5, train loss: 0.475\n",
      "Best model updated with roc_auc=0.5926!\n",
      "Test Accuracy: 78.94 %\n",
      "Test Loss: 0.4334\n",
      "Test ROC AUC: 0.5926\n",
      "Test F1 Score: 0.3358\n"
     ]
    },
    {
     "data": {
      "text/html": [],
      "text/plain": [
       "<IPython.core.display.HTML object>"
      ]
     },
     "metadata": {},
     "output_type": "display_data"
    },
    {
     "data": {
      "text/html": [
       "<br>    <style><br>        .wandb-row {<br>            display: flex;<br>            flex-direction: row;<br>            flex-wrap: wrap;<br>            justify-content: flex-start;<br>            width: 100%;<br>        }<br>        .wandb-col {<br>            display: flex;<br>            flex-direction: column;<br>            flex-basis: 100%;<br>            flex: 1;<br>            padding: 10px;<br>        }<br>    </style><br><div class=\"wandb-row\"><div class=\"wandb-col\"><h3>Run history:</h3><br/><table class=\"wandb\"><tr><td>test/accuracy</td><td>█▁▆▇▇</td></tr><tr><td>test/epoch</td><td>▁▃▅▆█</td></tr><tr><td>test/f1_score</td><td>▁▇▅▇█</td></tr><tr><td>test/loss</td><td>▄█▃▄▁</td></tr><tr><td>test/roc_auc</td><td>▁▆▅▆█</td></tr><tr><td>train/epoch</td><td>▁▃▅▆█</td></tr><tr><td>train/loss</td><td>█▅▅▃▁</td></tr></table><br/></div><div class=\"wandb-col\"><h3>Run summary:</h3><br/><table class=\"wandb\"><tr><td>test/accuracy</td><td>0.78935</td></tr><tr><td>test/epoch</td><td>5</td></tr><tr><td>test/f1_score</td><td>0.33577</td></tr><tr><td>test/loss</td><td>0.43335</td></tr><tr><td>test/roc_auc</td><td>0.59265</td></tr><tr><td>train/epoch</td><td>5</td></tr><tr><td>train/loss</td><td>0.47451</td></tr></table><br/></div></div>"
      ],
      "text/plain": [
       "<IPython.core.display.HTML object>"
      ]
     },
     "metadata": {},
     "output_type": "display_data"
    },
    {
     "data": {
      "text/html": [
       " View run <strong style=\"color:#cdcd00\">helpful-waterfall-3</strong> at: <a href='https://wandb.ai/bill_bao/protac-stan/runs/6gc2kmad' target=\"_blank\">https://wandb.ai/bill_bao/protac-stan/runs/6gc2kmad</a><br> View project at: <a href='https://wandb.ai/bill_bao/protac-stan' target=\"_blank\">https://wandb.ai/bill_bao/protac-stan</a><br>Synced 5 W&B file(s), 0 media file(s), 0 artifact file(s) and 0 other file(s)"
      ],
      "text/plain": [
       "<IPython.core.display.HTML object>"
      ]
     },
     "metadata": {},
     "output_type": "display_data"
    },
    {
     "data": {
      "text/html": [
       "Find logs at: <code>./wandb/run-20251022_215106-6gc2kmad/logs</code>"
      ],
      "text/plain": [
       "<IPython.core.display.HTML object>"
      ]
     },
     "metadata": {},
     "output_type": "display_data"
    }
   ],
   "source": [
    "from main import train, test\n",
    "\n",
    "model = train(\n",
    "    model, train_loader, test_loader, device, \n",
    "    lr=train_cfg['learning_rate'], \n",
    "    num_epochs=train_cfg['num_epochs'], \n",
    ")\n",
    "\n",
    "torch.save(model.state_dict(), f'./demo_model_state_dict.pt') # save model state_dict\n",
    "wandb.finish()\n",
    "\n",
    "# Expected Output are as follows:"
   ]
  },
  {
   "cell_type": "code",
   "execution_count": null,
   "metadata": {},
   "outputs": [],
   "source": []
  }
 ],
 "metadata": {
  "kernelspec": {
   "display_name": "protac-stan",
   "language": "python",
   "name": "python3"
  },
  "language_info": {
   "codemirror_mode": {
    "name": "ipython",
    "version": 3
   },
   "file_extension": ".py",
   "mimetype": "text/x-python",
   "name": "python",
   "nbconvert_exporter": "python",
   "pygments_lexer": "ipython3",
   "version": "3.11.5"
  }
 },
 "nbformat": 4,
 "nbformat_minor": 2
}
